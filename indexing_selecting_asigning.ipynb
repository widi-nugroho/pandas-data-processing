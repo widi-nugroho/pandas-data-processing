{
 "cells": [
  {
   "cell_type": "markdown",
   "id": "543aa6c8",
   "metadata": {},
   "source": [
    "# Indexing, Selecting , Assigning"
   ]
  },
  {
   "cell_type": "markdown",
   "id": "649256e0",
   "metadata": {},
   "source": [
    "### Import libraries"
   ]
  },
  {
   "cell_type": "code",
   "execution_count": 1,
   "id": "f241fde1",
   "metadata": {},
   "outputs": [],
   "source": [
    "import pandas as pd"
   ]
  },
  {
   "cell_type": "markdown",
   "id": "1eb0cf59",
   "metadata": {},
   "source": [
    "### Read files to DataFrame"
   ]
  },
  {
   "cell_type": "code",
   "execution_count": 2,
   "id": "8d51ab7c",
   "metadata": {},
   "outputs": [],
   "source": [
    "reviews = pd.read_csv(\"winemag-data-130k-v2.csv\",index_col=0)"
   ]
  },
  {
   "cell_type": "markdown",
   "id": "d70818c9",
   "metadata": {},
   "source": [
    "### Displat first 2 data"
   ]
  },
  {
   "cell_type": "code",
   "execution_count": 3,
   "id": "2918ceab",
   "metadata": {},
   "outputs": [
    {
     "data": {
      "text/html": [
       "<div>\n",
       "<style scoped>\n",
       "    .dataframe tbody tr th:only-of-type {\n",
       "        vertical-align: middle;\n",
       "    }\n",
       "\n",
       "    .dataframe tbody tr th {\n",
       "        vertical-align: top;\n",
       "    }\n",
       "\n",
       "    .dataframe thead th {\n",
       "        text-align: right;\n",
       "    }\n",
       "</style>\n",
       "<table border=\"1\" class=\"dataframe\">\n",
       "  <thead>\n",
       "    <tr style=\"text-align: right;\">\n",
       "      <th></th>\n",
       "      <th>country</th>\n",
       "      <th>description</th>\n",
       "      <th>designation</th>\n",
       "      <th>points</th>\n",
       "      <th>price</th>\n",
       "      <th>province</th>\n",
       "      <th>region_1</th>\n",
       "      <th>region_2</th>\n",
       "      <th>taster_name</th>\n",
       "      <th>taster_twitter_handle</th>\n",
       "      <th>title</th>\n",
       "      <th>variety</th>\n",
       "      <th>winery</th>\n",
       "    </tr>\n",
       "  </thead>\n",
       "  <tbody>\n",
       "    <tr>\n",
       "      <th>0</th>\n",
       "      <td>Italy</td>\n",
       "      <td>Aromas include tropical fruit, broom, brimston...</td>\n",
       "      <td>Vulkà Bianco</td>\n",
       "      <td>87</td>\n",
       "      <td>NaN</td>\n",
       "      <td>Sicily &amp; Sardinia</td>\n",
       "      <td>Etna</td>\n",
       "      <td>NaN</td>\n",
       "      <td>Kerin O’Keefe</td>\n",
       "      <td>@kerinokeefe</td>\n",
       "      <td>Nicosia 2013 Vulkà Bianco  (Etna)</td>\n",
       "      <td>White Blend</td>\n",
       "      <td>Nicosia</td>\n",
       "    </tr>\n",
       "    <tr>\n",
       "      <th>1</th>\n",
       "      <td>Portugal</td>\n",
       "      <td>This is ripe and fruity, a wine that is smooth...</td>\n",
       "      <td>Avidagos</td>\n",
       "      <td>87</td>\n",
       "      <td>15.0</td>\n",
       "      <td>Douro</td>\n",
       "      <td>NaN</td>\n",
       "      <td>NaN</td>\n",
       "      <td>Roger Voss</td>\n",
       "      <td>@vossroger</td>\n",
       "      <td>Quinta dos Avidagos 2011 Avidagos Red (Douro)</td>\n",
       "      <td>Portuguese Red</td>\n",
       "      <td>Quinta dos Avidagos</td>\n",
       "    </tr>\n",
       "  </tbody>\n",
       "</table>\n",
       "</div>"
      ],
      "text/plain": [
       "    country                                        description   designation  \\\n",
       "0     Italy  Aromas include tropical fruit, broom, brimston...  Vulkà Bianco   \n",
       "1  Portugal  This is ripe and fruity, a wine that is smooth...      Avidagos   \n",
       "\n",
       "   points  price           province region_1 region_2    taster_name  \\\n",
       "0      87    NaN  Sicily & Sardinia     Etna      NaN  Kerin O’Keefe   \n",
       "1      87   15.0              Douro      NaN      NaN     Roger Voss   \n",
       "\n",
       "  taster_twitter_handle                                          title  \\\n",
       "0          @kerinokeefe              Nicosia 2013 Vulkà Bianco  (Etna)   \n",
       "1            @vossroger  Quinta dos Avidagos 2011 Avidagos Red (Douro)   \n",
       "\n",
       "          variety               winery  \n",
       "0     White Blend              Nicosia  \n",
       "1  Portuguese Red  Quinta dos Avidagos  "
      ]
     },
     "execution_count": 3,
     "metadata": {},
     "output_type": "execute_result"
    }
   ],
   "source": [
    "reviews.head(2)"
   ]
  },
  {
   "cell_type": "markdown",
   "id": "8d8b8205",
   "metadata": {},
   "source": [
    "### Access DataFrame Columns (1)"
   ]
  },
  {
   "cell_type": "code",
   "execution_count": 4,
   "id": "a3203afa",
   "metadata": {},
   "outputs": [
    {
     "data": {
      "text/plain": [
       "0            Italy\n",
       "1         Portugal\n",
       "2               US\n",
       "3               US\n",
       "4               US\n",
       "            ...   \n",
       "129966     Germany\n",
       "129967          US\n",
       "129968      France\n",
       "129969      France\n",
       "129970      France\n",
       "Name: country, Length: 129971, dtype: object"
      ]
     },
     "execution_count": 4,
     "metadata": {},
     "output_type": "execute_result"
    }
   ],
   "source": [
    "reviews.country"
   ]
  },
  {
   "cell_type": "markdown",
   "id": "1e6a3b1a",
   "metadata": {},
   "source": [
    "### Access DataFrame Columns (2)"
   ]
  },
  {
   "cell_type": "code",
   "execution_count": 5,
   "id": "5700f4df",
   "metadata": {},
   "outputs": [
    {
     "data": {
      "text/plain": [
       "0            Italy\n",
       "1         Portugal\n",
       "2               US\n",
       "3               US\n",
       "4               US\n",
       "            ...   \n",
       "129966     Germany\n",
       "129967          US\n",
       "129968      France\n",
       "129969      France\n",
       "129970      France\n",
       "Name: country, Length: 129971, dtype: object"
      ]
     },
     "execution_count": 5,
     "metadata": {},
     "output_type": "execute_result"
    }
   ],
   "source": [
    "reviews['country']"
   ]
  },
  {
   "cell_type": "markdown",
   "id": "fac09e1c",
   "metadata": {},
   "source": [
    "### Access Specific Data from DataFrame"
   ]
  },
  {
   "cell_type": "code",
   "execution_count": 7,
   "id": "978958b5",
   "metadata": {},
   "outputs": [
    {
     "data": {
      "text/plain": [
       "'Portugal'"
      ]
     },
     "execution_count": 7,
     "metadata": {},
     "output_type": "execute_result"
    }
   ],
   "source": [
    "#Column : Country and Row = 1\n",
    "reviews['country'][1]"
   ]
  },
  {
   "cell_type": "markdown",
   "id": "cd051c78",
   "metadata": {},
   "source": [
    "### Select using index number : iloc"
   ]
  },
  {
   "cell_type": "code",
   "execution_count": 17,
   "id": "0a2572e3",
   "metadata": {},
   "outputs": [
    {
     "data": {
      "text/plain": [
       "country                                                              Italy\n",
       "description              Aromas include tropical fruit, broom, brimston...\n",
       "designation                                                   Vulkà Bianco\n",
       "points                                                                  87\n",
       "price                                                                  NaN\n",
       "province                                                 Sicily & Sardinia\n",
       "region_1                                                              Etna\n",
       "region_2                                                               NaN\n",
       "taster_name                                                  Kerin O’Keefe\n",
       "taster_twitter_handle                                         @kerinokeefe\n",
       "title                                    Nicosia 2013 Vulkà Bianco  (Etna)\n",
       "variety                                                        White Blend\n",
       "winery                                                             Nicosia\n",
       "Name: 0, dtype: object"
      ]
     },
     "execution_count": 17,
     "metadata": {},
     "output_type": "execute_result"
    }
   ],
   "source": [
    "#Select row 0\n",
    "reviews.iloc[0]"
   ]
  },
  {
   "cell_type": "markdown",
   "id": "946e6698",
   "metadata": {},
   "source": [
    "### Select using index number :iloc[row,column]"
   ]
  },
  {
   "cell_type": "code",
   "execution_count": 10,
   "id": "60f578b5",
   "metadata": {},
   "outputs": [
    {
     "data": {
      "text/plain": [
       "0            Italy\n",
       "1         Portugal\n",
       "2               US\n",
       "3               US\n",
       "4               US\n",
       "            ...   \n",
       "129966     Germany\n",
       "129967          US\n",
       "129968      France\n",
       "129969      France\n",
       "129970      France\n",
       "Name: country, Length: 129971, dtype: object"
      ]
     },
     "execution_count": 10,
     "metadata": {},
     "output_type": "execute_result"
    }
   ],
   "source": [
    "#Select all row from column 0\n",
    "reviews.iloc[:, 0]"
   ]
  },
  {
   "cell_type": "code",
   "execution_count": 12,
   "id": "327e8b4e",
   "metadata": {},
   "outputs": [
    {
     "data": {
      "text/plain": [
       "0       Italy\n",
       "1    Portugal\n",
       "2          US\n",
       "Name: country, dtype: object"
      ]
     },
     "execution_count": 12,
     "metadata": {},
     "output_type": "execute_result"
    }
   ],
   "source": [
    "#Select row 0 untill 2 from column 0\n",
    "reviews.iloc[:3, 0]"
   ]
  },
  {
   "cell_type": "code",
   "execution_count": 13,
   "id": "7c1c2c35",
   "metadata": {},
   "outputs": [
    {
     "data": {
      "text/plain": [
       "0        Italy\n",
       "1     Portugal\n",
       "10          US\n",
       "Name: country, dtype: object"
      ]
     },
     "execution_count": 13,
     "metadata": {},
     "output_type": "execute_result"
    }
   ],
   "source": [
    "#Select row 0,1,10 from column 0\n",
    "reviews.iloc[[0, 1, 10], 0]"
   ]
  },
  {
   "cell_type": "code",
   "execution_count": 16,
   "id": "421f3a5a",
   "metadata": {},
   "outputs": [
    {
     "data": {
      "text/html": [
       "<div>\n",
       "<style scoped>\n",
       "    .dataframe tbody tr th:only-of-type {\n",
       "        vertical-align: middle;\n",
       "    }\n",
       "\n",
       "    .dataframe tbody tr th {\n",
       "        vertical-align: top;\n",
       "    }\n",
       "\n",
       "    .dataframe thead th {\n",
       "        text-align: right;\n",
       "    }\n",
       "</style>\n",
       "<table border=\"1\" class=\"dataframe\">\n",
       "  <thead>\n",
       "    <tr style=\"text-align: right;\">\n",
       "      <th></th>\n",
       "      <th>country</th>\n",
       "      <th>description</th>\n",
       "      <th>designation</th>\n",
       "      <th>points</th>\n",
       "      <th>price</th>\n",
       "      <th>province</th>\n",
       "      <th>region_1</th>\n",
       "      <th>region_2</th>\n",
       "      <th>taster_name</th>\n",
       "      <th>taster_twitter_handle</th>\n",
       "      <th>title</th>\n",
       "      <th>variety</th>\n",
       "      <th>winery</th>\n",
       "    </tr>\n",
       "  </thead>\n",
       "  <tbody>\n",
       "    <tr>\n",
       "      <th>129968</th>\n",
       "      <td>France</td>\n",
       "      <td>Well-drained gravel soil gives this wine its c...</td>\n",
       "      <td>Kritt</td>\n",
       "      <td>90</td>\n",
       "      <td>30.0</td>\n",
       "      <td>Alsace</td>\n",
       "      <td>Alsace</td>\n",
       "      <td>NaN</td>\n",
       "      <td>Roger Voss</td>\n",
       "      <td>@vossroger</td>\n",
       "      <td>Domaine Gresser 2013 Kritt Gewurztraminer (Als...</td>\n",
       "      <td>Gewürztraminer</td>\n",
       "      <td>Domaine Gresser</td>\n",
       "    </tr>\n",
       "    <tr>\n",
       "      <th>129969</th>\n",
       "      <td>France</td>\n",
       "      <td>A dry style of Pinot Gris, this is crisp with ...</td>\n",
       "      <td>NaN</td>\n",
       "      <td>90</td>\n",
       "      <td>32.0</td>\n",
       "      <td>Alsace</td>\n",
       "      <td>Alsace</td>\n",
       "      <td>NaN</td>\n",
       "      <td>Roger Voss</td>\n",
       "      <td>@vossroger</td>\n",
       "      <td>Domaine Marcel Deiss 2012 Pinot Gris (Alsace)</td>\n",
       "      <td>Pinot Gris</td>\n",
       "      <td>Domaine Marcel Deiss</td>\n",
       "    </tr>\n",
       "    <tr>\n",
       "      <th>129970</th>\n",
       "      <td>France</td>\n",
       "      <td>Big, rich and off-dry, this is powered by inte...</td>\n",
       "      <td>Lieu-dit Harth Cuvée Caroline</td>\n",
       "      <td>90</td>\n",
       "      <td>21.0</td>\n",
       "      <td>Alsace</td>\n",
       "      <td>Alsace</td>\n",
       "      <td>NaN</td>\n",
       "      <td>Roger Voss</td>\n",
       "      <td>@vossroger</td>\n",
       "      <td>Domaine Schoffit 2012 Lieu-dit Harth Cuvée Car...</td>\n",
       "      <td>Gewürztraminer</td>\n",
       "      <td>Domaine Schoffit</td>\n",
       "    </tr>\n",
       "  </tbody>\n",
       "</table>\n",
       "</div>"
      ],
      "text/plain": [
       "       country                                        description  \\\n",
       "129968  France  Well-drained gravel soil gives this wine its c...   \n",
       "129969  France  A dry style of Pinot Gris, this is crisp with ...   \n",
       "129970  France  Big, rich and off-dry, this is powered by inte...   \n",
       "\n",
       "                          designation  points  price province region_1  \\\n",
       "129968                          Kritt      90   30.0   Alsace   Alsace   \n",
       "129969                            NaN      90   32.0   Alsace   Alsace   \n",
       "129970  Lieu-dit Harth Cuvée Caroline      90   21.0   Alsace   Alsace   \n",
       "\n",
       "       region_2 taster_name taster_twitter_handle  \\\n",
       "129968      NaN  Roger Voss            @vossroger   \n",
       "129969      NaN  Roger Voss            @vossroger   \n",
       "129970      NaN  Roger Voss            @vossroger   \n",
       "\n",
       "                                                    title         variety  \\\n",
       "129968  Domaine Gresser 2013 Kritt Gewurztraminer (Als...  Gewürztraminer   \n",
       "129969      Domaine Marcel Deiss 2012 Pinot Gris (Alsace)      Pinot Gris   \n",
       "129970  Domaine Schoffit 2012 Lieu-dit Harth Cuvée Car...  Gewürztraminer   \n",
       "\n",
       "                      winery  \n",
       "129968       Domaine Gresser  \n",
       "129969  Domaine Marcel Deiss  \n",
       "129970      Domaine Schoffit  "
      ]
     },
     "execution_count": 16,
     "metadata": {},
     "output_type": "execute_result"
    }
   ],
   "source": [
    "#Select last 3 row from all columns\n",
    "reviews.iloc[-3:]"
   ]
  },
  {
   "cell_type": "markdown",
   "id": "cf01b958",
   "metadata": {},
   "source": [
    "### Select using label : loc[row,col] "
   ]
  },
  {
   "cell_type": "code",
   "execution_count": 29,
   "id": "43fd8173",
   "metadata": {},
   "outputs": [
    {
     "data": {
      "text/plain": [
       "'Italy'"
      ]
     },
     "execution_count": 29,
     "metadata": {},
     "output_type": "execute_result"
    }
   ],
   "source": [
    "#Select row 0 from column 'country'\n",
    "reviews.loc[0, 'country']"
   ]
  },
  {
   "cell_type": "code",
   "execution_count": 18,
   "id": "d9f7bf6a",
   "metadata": {},
   "outputs": [
    {
     "data": {
      "text/plain": [
       "country                Italy\n",
       "taster_name    Kerin O’Keefe\n",
       "Name: 0, dtype: object"
      ]
     },
     "execution_count": 18,
     "metadata": {},
     "output_type": "execute_result"
    }
   ],
   "source": [
    "#Select row 0 from column 'country' and 'taster_name'\n",
    "reviews.loc[0, ['country', 'taster_name']]"
   ]
  },
  {
   "cell_type": "code",
   "execution_count": 19,
   "id": "25db3938",
   "metadata": {},
   "outputs": [
    {
     "data": {
      "text/html": [
       "<div>\n",
       "<style scoped>\n",
       "    .dataframe tbody tr th:only-of-type {\n",
       "        vertical-align: middle;\n",
       "    }\n",
       "\n",
       "    .dataframe tbody tr th {\n",
       "        vertical-align: top;\n",
       "    }\n",
       "\n",
       "    .dataframe thead th {\n",
       "        text-align: right;\n",
       "    }\n",
       "</style>\n",
       "<table border=\"1\" class=\"dataframe\">\n",
       "  <thead>\n",
       "    <tr style=\"text-align: right;\">\n",
       "      <th></th>\n",
       "      <th>taster_name</th>\n",
       "      <th>taster_twitter_handle</th>\n",
       "      <th>points</th>\n",
       "    </tr>\n",
       "  </thead>\n",
       "  <tbody>\n",
       "    <tr>\n",
       "      <th>0</th>\n",
       "      <td>Kerin O’Keefe</td>\n",
       "      <td>@kerinokeefe</td>\n",
       "      <td>87</td>\n",
       "    </tr>\n",
       "    <tr>\n",
       "      <th>1</th>\n",
       "      <td>Roger Voss</td>\n",
       "      <td>@vossroger</td>\n",
       "      <td>87</td>\n",
       "    </tr>\n",
       "    <tr>\n",
       "      <th>2</th>\n",
       "      <td>Paul Gregutt</td>\n",
       "      <td>@paulgwine</td>\n",
       "      <td>87</td>\n",
       "    </tr>\n",
       "    <tr>\n",
       "      <th>3</th>\n",
       "      <td>Alexander Peartree</td>\n",
       "      <td>NaN</td>\n",
       "      <td>87</td>\n",
       "    </tr>\n",
       "    <tr>\n",
       "      <th>4</th>\n",
       "      <td>Paul Gregutt</td>\n",
       "      <td>@paulgwine</td>\n",
       "      <td>87</td>\n",
       "    </tr>\n",
       "    <tr>\n",
       "      <th>...</th>\n",
       "      <td>...</td>\n",
       "      <td>...</td>\n",
       "      <td>...</td>\n",
       "    </tr>\n",
       "    <tr>\n",
       "      <th>129966</th>\n",
       "      <td>Anna Lee C. Iijima</td>\n",
       "      <td>NaN</td>\n",
       "      <td>90</td>\n",
       "    </tr>\n",
       "    <tr>\n",
       "      <th>129967</th>\n",
       "      <td>Paul Gregutt</td>\n",
       "      <td>@paulgwine</td>\n",
       "      <td>90</td>\n",
       "    </tr>\n",
       "    <tr>\n",
       "      <th>129968</th>\n",
       "      <td>Roger Voss</td>\n",
       "      <td>@vossroger</td>\n",
       "      <td>90</td>\n",
       "    </tr>\n",
       "    <tr>\n",
       "      <th>129969</th>\n",
       "      <td>Roger Voss</td>\n",
       "      <td>@vossroger</td>\n",
       "      <td>90</td>\n",
       "    </tr>\n",
       "    <tr>\n",
       "      <th>129970</th>\n",
       "      <td>Roger Voss</td>\n",
       "      <td>@vossroger</td>\n",
       "      <td>90</td>\n",
       "    </tr>\n",
       "  </tbody>\n",
       "</table>\n",
       "<p>129971 rows × 3 columns</p>\n",
       "</div>"
      ],
      "text/plain": [
       "               taster_name taster_twitter_handle  points\n",
       "0            Kerin O’Keefe          @kerinokeefe      87\n",
       "1               Roger Voss            @vossroger      87\n",
       "2             Paul Gregutt           @paulgwine       87\n",
       "3       Alexander Peartree                   NaN      87\n",
       "4             Paul Gregutt           @paulgwine       87\n",
       "...                    ...                   ...     ...\n",
       "129966  Anna Lee C. Iijima                   NaN      90\n",
       "129967        Paul Gregutt           @paulgwine       90\n",
       "129968          Roger Voss            @vossroger      90\n",
       "129969          Roger Voss            @vossroger      90\n",
       "129970          Roger Voss            @vossroger      90\n",
       "\n",
       "[129971 rows x 3 columns]"
      ]
     },
     "execution_count": 19,
     "metadata": {},
     "output_type": "execute_result"
    }
   ],
   "source": [
    "#Select all row from column 'taster_name', 'taster_twitter_handle', 'points'\n",
    "reviews.loc[:, ['taster_name', 'taster_twitter_handle', 'points']]"
   ]
  },
  {
   "cell_type": "markdown",
   "id": "52e807bc",
   "metadata": {},
   "source": [
    "### Access the DataFrame Index"
   ]
  },
  {
   "cell_type": "code",
   "execution_count": 20,
   "id": "3156988d",
   "metadata": {},
   "outputs": [
    {
     "data": {
      "text/plain": [
       "Int64Index([     0,      1,      2,      3,      4,      5,      6,      7,\n",
       "                 8,      9,\n",
       "            ...\n",
       "            129961, 129962, 129963, 129964, 129965, 129966, 129967, 129968,\n",
       "            129969, 129970],\n",
       "           dtype='int64', length=129971)"
      ]
     },
     "execution_count": 20,
     "metadata": {},
     "output_type": "execute_result"
    }
   ],
   "source": [
    "reviews.index"
   ]
  },
  {
   "cell_type": "markdown",
   "id": "15920671",
   "metadata": {},
   "source": [
    "### Manipulating the index"
   ]
  },
  {
   "cell_type": "markdown",
   "id": "fa3e0dc7",
   "metadata": {},
   "source": [
    "### Set the DataFrame index to 'tittle' column and display the first two data"
   ]
  },
  {
   "cell_type": "code",
   "execution_count": 33,
   "id": "3f379f8b",
   "metadata": {},
   "outputs": [
    {
     "data": {
      "text/html": [
       "<div>\n",
       "<style scoped>\n",
       "    .dataframe tbody tr th:only-of-type {\n",
       "        vertical-align: middle;\n",
       "    }\n",
       "\n",
       "    .dataframe tbody tr th {\n",
       "        vertical-align: top;\n",
       "    }\n",
       "\n",
       "    .dataframe thead th {\n",
       "        text-align: right;\n",
       "    }\n",
       "</style>\n",
       "<table border=\"1\" class=\"dataframe\">\n",
       "  <thead>\n",
       "    <tr style=\"text-align: right;\">\n",
       "      <th></th>\n",
       "      <th>country</th>\n",
       "      <th>description</th>\n",
       "      <th>designation</th>\n",
       "      <th>points</th>\n",
       "      <th>price</th>\n",
       "      <th>province</th>\n",
       "      <th>region_1</th>\n",
       "      <th>region_2</th>\n",
       "      <th>taster_name</th>\n",
       "      <th>taster_twitter_handle</th>\n",
       "      <th>variety</th>\n",
       "      <th>winery</th>\n",
       "    </tr>\n",
       "    <tr>\n",
       "      <th>title</th>\n",
       "      <th></th>\n",
       "      <th></th>\n",
       "      <th></th>\n",
       "      <th></th>\n",
       "      <th></th>\n",
       "      <th></th>\n",
       "      <th></th>\n",
       "      <th></th>\n",
       "      <th></th>\n",
       "      <th></th>\n",
       "      <th></th>\n",
       "      <th></th>\n",
       "    </tr>\n",
       "  </thead>\n",
       "  <tbody>\n",
       "    <tr>\n",
       "      <th>Nicosia 2013 Vulkà Bianco  (Etna)</th>\n",
       "      <td>Italy</td>\n",
       "      <td>Aromas include tropical fruit, broom, brimston...</td>\n",
       "      <td>Vulkà Bianco</td>\n",
       "      <td>87</td>\n",
       "      <td>NaN</td>\n",
       "      <td>Sicily &amp; Sardinia</td>\n",
       "      <td>Etna</td>\n",
       "      <td>NaN</td>\n",
       "      <td>Kerin O’Keefe</td>\n",
       "      <td>@kerinokeefe</td>\n",
       "      <td>White Blend</td>\n",
       "      <td>Nicosia</td>\n",
       "    </tr>\n",
       "    <tr>\n",
       "      <th>Quinta dos Avidagos 2011 Avidagos Red (Douro)</th>\n",
       "      <td>Portugal</td>\n",
       "      <td>This is ripe and fruity, a wine that is smooth...</td>\n",
       "      <td>Avidagos</td>\n",
       "      <td>87</td>\n",
       "      <td>15.0</td>\n",
       "      <td>Douro</td>\n",
       "      <td>NaN</td>\n",
       "      <td>NaN</td>\n",
       "      <td>Roger Voss</td>\n",
       "      <td>@vossroger</td>\n",
       "      <td>Portuguese Red</td>\n",
       "      <td>Quinta dos Avidagos</td>\n",
       "    </tr>\n",
       "  </tbody>\n",
       "</table>\n",
       "</div>"
      ],
      "text/plain": [
       "                                                country  \\\n",
       "title                                                     \n",
       "Nicosia 2013 Vulkà Bianco  (Etna)                 Italy   \n",
       "Quinta dos Avidagos 2011 Avidagos Red (Douro)  Portugal   \n",
       "\n",
       "                                                                                     description  \\\n",
       "title                                                                                              \n",
       "Nicosia 2013 Vulkà Bianco  (Etna)              Aromas include tropical fruit, broom, brimston...   \n",
       "Quinta dos Avidagos 2011 Avidagos Red (Douro)  This is ripe and fruity, a wine that is smooth...   \n",
       "\n",
       "                                                designation  points  price  \\\n",
       "title                                                                        \n",
       "Nicosia 2013 Vulkà Bianco  (Etna)              Vulkà Bianco      87    NaN   \n",
       "Quinta dos Avidagos 2011 Avidagos Red (Douro)      Avidagos      87   15.0   \n",
       "\n",
       "                                                        province region_1  \\\n",
       "title                                                                       \n",
       "Nicosia 2013 Vulkà Bianco  (Etna)              Sicily & Sardinia     Etna   \n",
       "Quinta dos Avidagos 2011 Avidagos Red (Douro)              Douro      NaN   \n",
       "\n",
       "                                              region_2    taster_name  \\\n",
       "title                                                                   \n",
       "Nicosia 2013 Vulkà Bianco  (Etna)                  NaN  Kerin O’Keefe   \n",
       "Quinta dos Avidagos 2011 Avidagos Red (Douro)      NaN     Roger Voss   \n",
       "\n",
       "                                              taster_twitter_handle  \\\n",
       "title                                                                 \n",
       "Nicosia 2013 Vulkà Bianco  (Etna)                      @kerinokeefe   \n",
       "Quinta dos Avidagos 2011 Avidagos Red (Douro)            @vossroger   \n",
       "\n",
       "                                                      variety  \\\n",
       "title                                                           \n",
       "Nicosia 2013 Vulkà Bianco  (Etna)                 White Blend   \n",
       "Quinta dos Avidagos 2011 Avidagos Red (Douro)  Portuguese Red   \n",
       "\n",
       "                                                            winery  \n",
       "title                                                               \n",
       "Nicosia 2013 Vulkà Bianco  (Etna)                          Nicosia  \n",
       "Quinta dos Avidagos 2011 Avidagos Red (Douro)  Quinta dos Avidagos  "
      ]
     },
     "execution_count": 33,
     "metadata": {},
     "output_type": "execute_result"
    }
   ],
   "source": [
    "reviews.set_index(\"title\").head(2)"
   ]
  },
  {
   "cell_type": "markdown",
   "id": "711ffe1f",
   "metadata": {},
   "source": [
    "### Define new DataFrame with specified index from a column"
   ]
  },
  {
   "cell_type": "code",
   "execution_count": 21,
   "id": "d66a1a54",
   "metadata": {},
   "outputs": [
    {
     "data": {
      "text/plain": [
       "Index(['Nicosia 2013 Vulkà Bianco  (Etna)',\n",
       "       'Quinta dos Avidagos 2011 Avidagos Red (Douro)',\n",
       "       'Rainstorm 2013 Pinot Gris (Willamette Valley)',\n",
       "       'St. Julian 2013 Reserve Late Harvest Riesling (Lake Michigan Shore)',\n",
       "       'Sweet Cheeks 2012 Vintner's Reserve Wild Child Block Pinot Noir (Willamette Valley)',\n",
       "       'Tandem 2011 Ars In Vitro Tempranillo-Merlot (Navarra)',\n",
       "       'Terre di Giurfo 2013 Belsito Frappato (Vittoria)',\n",
       "       'Trimbach 2012 Gewurztraminer (Alsace)',\n",
       "       'Heinz Eifel 2013 Shine Gewürztraminer (Rheinhessen)',\n",
       "       'Jean-Baptiste Adam 2012 Les Natures Pinot Gris (Alsace)',\n",
       "       ...\n",
       "       'COS 2013 Frappato (Sicilia)',\n",
       "       'Cusumano 2012 Sàgana Tenuta San Giacomo Nero d'Avola (Sicilia)',\n",
       "       'Dalton 2012 Oak Aged Cabernet Sauvignon (Galilee)',\n",
       "       'Domaine Ehrhart 2013 Domaine Saint-Rémy Herrenweg Gewurztraminer (Alsace)',\n",
       "       'Domaine Rieflé-Landmann 2013 Seppi Landmann Vallée Noble Pinot Gris (Alsace)',\n",
       "       'Dr. H. Thanisch (Erben Müller-Burggraef) 2013 Brauneberger Juffer-Sonnenuhr Spätlese Riesling (Mosel)',\n",
       "       'Citation 2004 Pinot Noir (Oregon)',\n",
       "       'Domaine Gresser 2013 Kritt Gewurztraminer (Alsace)',\n",
       "       'Domaine Marcel Deiss 2012 Pinot Gris (Alsace)',\n",
       "       'Domaine Schoffit 2012 Lieu-dit Harth Cuvée Caroline Gewurztraminer (Alsace)'],\n",
       "      dtype='object', name='title', length=129971)"
      ]
     },
     "execution_count": 21,
     "metadata": {},
     "output_type": "execute_result"
    }
   ],
   "source": [
    "index_title_reviews=reviews.set_index(\"title\")\n",
    "index_title_reviews.index"
   ]
  },
  {
   "cell_type": "markdown",
   "id": "227e8084",
   "metadata": {},
   "source": [
    "### Conditional selection"
   ]
  },
  {
   "cell_type": "markdown",
   "id": "f862d2fd",
   "metadata": {},
   "source": [
    "### Check values from a selected column"
   ]
  },
  {
   "cell_type": "code",
   "execution_count": 22,
   "id": "6e6557ba",
   "metadata": {},
   "outputs": [
    {
     "data": {
      "text/plain": [
       "0          True\n",
       "1         False\n",
       "2         False\n",
       "3         False\n",
       "4         False\n",
       "          ...  \n",
       "129966    False\n",
       "129967    False\n",
       "129968    False\n",
       "129969    False\n",
       "129970    False\n",
       "Name: country, Length: 129971, dtype: bool"
      ]
     },
     "execution_count": 22,
     "metadata": {},
     "output_type": "execute_result"
    }
   ],
   "source": [
    "reviews.country == 'Italy'"
   ]
  },
  {
   "cell_type": "markdown",
   "id": "ba6ef61f",
   "metadata": {},
   "source": [
    "### Select row that fulfill the condition"
   ]
  },
  {
   "cell_type": "code",
   "execution_count": 23,
   "id": "0211c623",
   "metadata": {},
   "outputs": [
    {
     "data": {
      "text/html": [
       "<div>\n",
       "<style scoped>\n",
       "    .dataframe tbody tr th:only-of-type {\n",
       "        vertical-align: middle;\n",
       "    }\n",
       "\n",
       "    .dataframe tbody tr th {\n",
       "        vertical-align: top;\n",
       "    }\n",
       "\n",
       "    .dataframe thead th {\n",
       "        text-align: right;\n",
       "    }\n",
       "</style>\n",
       "<table border=\"1\" class=\"dataframe\">\n",
       "  <thead>\n",
       "    <tr style=\"text-align: right;\">\n",
       "      <th></th>\n",
       "      <th>country</th>\n",
       "      <th>description</th>\n",
       "      <th>designation</th>\n",
       "      <th>points</th>\n",
       "      <th>price</th>\n",
       "      <th>province</th>\n",
       "      <th>region_1</th>\n",
       "      <th>region_2</th>\n",
       "      <th>taster_name</th>\n",
       "      <th>taster_twitter_handle</th>\n",
       "      <th>title</th>\n",
       "      <th>variety</th>\n",
       "      <th>winery</th>\n",
       "    </tr>\n",
       "  </thead>\n",
       "  <tbody>\n",
       "    <tr>\n",
       "      <th>0</th>\n",
       "      <td>Italy</td>\n",
       "      <td>Aromas include tropical fruit, broom, brimston...</td>\n",
       "      <td>Vulkà Bianco</td>\n",
       "      <td>87</td>\n",
       "      <td>NaN</td>\n",
       "      <td>Sicily &amp; Sardinia</td>\n",
       "      <td>Etna</td>\n",
       "      <td>NaN</td>\n",
       "      <td>Kerin O’Keefe</td>\n",
       "      <td>@kerinokeefe</td>\n",
       "      <td>Nicosia 2013 Vulkà Bianco  (Etna)</td>\n",
       "      <td>White Blend</td>\n",
       "      <td>Nicosia</td>\n",
       "    </tr>\n",
       "    <tr>\n",
       "      <th>6</th>\n",
       "      <td>Italy</td>\n",
       "      <td>Here's a bright, informal red that opens with ...</td>\n",
       "      <td>Belsito</td>\n",
       "      <td>87</td>\n",
       "      <td>16.0</td>\n",
       "      <td>Sicily &amp; Sardinia</td>\n",
       "      <td>Vittoria</td>\n",
       "      <td>NaN</td>\n",
       "      <td>Kerin O’Keefe</td>\n",
       "      <td>@kerinokeefe</td>\n",
       "      <td>Terre di Giurfo 2013 Belsito Frappato (Vittoria)</td>\n",
       "      <td>Frappato</td>\n",
       "      <td>Terre di Giurfo</td>\n",
       "    </tr>\n",
       "    <tr>\n",
       "      <th>13</th>\n",
       "      <td>Italy</td>\n",
       "      <td>This is dominated by oak and oak-driven aromas...</td>\n",
       "      <td>Rosso</td>\n",
       "      <td>87</td>\n",
       "      <td>NaN</td>\n",
       "      <td>Sicily &amp; Sardinia</td>\n",
       "      <td>Etna</td>\n",
       "      <td>NaN</td>\n",
       "      <td>Kerin O’Keefe</td>\n",
       "      <td>@kerinokeefe</td>\n",
       "      <td>Masseria Setteporte 2012 Rosso  (Etna)</td>\n",
       "      <td>Nerello Mascalese</td>\n",
       "      <td>Masseria Setteporte</td>\n",
       "    </tr>\n",
       "    <tr>\n",
       "      <th>22</th>\n",
       "      <td>Italy</td>\n",
       "      <td>Delicate aromas recall white flower and citrus...</td>\n",
       "      <td>Ficiligno</td>\n",
       "      <td>87</td>\n",
       "      <td>19.0</td>\n",
       "      <td>Sicily &amp; Sardinia</td>\n",
       "      <td>Sicilia</td>\n",
       "      <td>NaN</td>\n",
       "      <td>Kerin O’Keefe</td>\n",
       "      <td>@kerinokeefe</td>\n",
       "      <td>Baglio di Pianetto 2007 Ficiligno White (Sicilia)</td>\n",
       "      <td>White Blend</td>\n",
       "      <td>Baglio di Pianetto</td>\n",
       "    </tr>\n",
       "    <tr>\n",
       "      <th>24</th>\n",
       "      <td>Italy</td>\n",
       "      <td>Aromas of prune, blackcurrant, toast and oak c...</td>\n",
       "      <td>Aynat</td>\n",
       "      <td>87</td>\n",
       "      <td>35.0</td>\n",
       "      <td>Sicily &amp; Sardinia</td>\n",
       "      <td>Sicilia</td>\n",
       "      <td>NaN</td>\n",
       "      <td>Kerin O’Keefe</td>\n",
       "      <td>@kerinokeefe</td>\n",
       "      <td>Canicattì 2009 Aynat Nero d'Avola (Sicilia)</td>\n",
       "      <td>Nero d'Avola</td>\n",
       "      <td>Canicattì</td>\n",
       "    </tr>\n",
       "  </tbody>\n",
       "</table>\n",
       "</div>"
      ],
      "text/plain": [
       "   country                                        description   designation  \\\n",
       "0    Italy  Aromas include tropical fruit, broom, brimston...  Vulkà Bianco   \n",
       "6    Italy  Here's a bright, informal red that opens with ...       Belsito   \n",
       "13   Italy  This is dominated by oak and oak-driven aromas...         Rosso   \n",
       "22   Italy  Delicate aromas recall white flower and citrus...     Ficiligno   \n",
       "24   Italy  Aromas of prune, blackcurrant, toast and oak c...         Aynat   \n",
       "\n",
       "    points  price           province  region_1 region_2    taster_name  \\\n",
       "0       87    NaN  Sicily & Sardinia      Etna      NaN  Kerin O’Keefe   \n",
       "6       87   16.0  Sicily & Sardinia  Vittoria      NaN  Kerin O’Keefe   \n",
       "13      87    NaN  Sicily & Sardinia      Etna      NaN  Kerin O’Keefe   \n",
       "22      87   19.0  Sicily & Sardinia   Sicilia      NaN  Kerin O’Keefe   \n",
       "24      87   35.0  Sicily & Sardinia   Sicilia      NaN  Kerin O’Keefe   \n",
       "\n",
       "   taster_twitter_handle                                              title  \\\n",
       "0           @kerinokeefe                  Nicosia 2013 Vulkà Bianco  (Etna)   \n",
       "6           @kerinokeefe   Terre di Giurfo 2013 Belsito Frappato (Vittoria)   \n",
       "13          @kerinokeefe             Masseria Setteporte 2012 Rosso  (Etna)   \n",
       "22          @kerinokeefe  Baglio di Pianetto 2007 Ficiligno White (Sicilia)   \n",
       "24          @kerinokeefe        Canicattì 2009 Aynat Nero d'Avola (Sicilia)   \n",
       "\n",
       "              variety               winery  \n",
       "0         White Blend              Nicosia  \n",
       "6            Frappato      Terre di Giurfo  \n",
       "13  Nerello Mascalese  Masseria Setteporte  \n",
       "22        White Blend   Baglio di Pianetto  \n",
       "24       Nero d'Avola            Canicattì  "
      ]
     },
     "execution_count": 23,
     "metadata": {},
     "output_type": "execute_result"
    }
   ],
   "source": [
    "italy_wine=reviews.loc[reviews.country == 'Italy']\n",
    "italy_wine.head()"
   ]
  },
  {
   "cell_type": "markdown",
   "id": "4ca3ab3a",
   "metadata": {},
   "source": [
    "### Select row that fullfill all the 3 conditions (and)"
   ]
  },
  {
   "cell_type": "code",
   "execution_count": 27,
   "id": "1ecf72ca",
   "metadata": {},
   "outputs": [
    {
     "data": {
      "text/html": [
       "<div>\n",
       "<style scoped>\n",
       "    .dataframe tbody tr th:only-of-type {\n",
       "        vertical-align: middle;\n",
       "    }\n",
       "\n",
       "    .dataframe tbody tr th {\n",
       "        vertical-align: top;\n",
       "    }\n",
       "\n",
       "    .dataframe thead th {\n",
       "        text-align: right;\n",
       "    }\n",
       "</style>\n",
       "<table border=\"1\" class=\"dataframe\">\n",
       "  <thead>\n",
       "    <tr style=\"text-align: right;\">\n",
       "      <th></th>\n",
       "      <th>country</th>\n",
       "      <th>description</th>\n",
       "      <th>designation</th>\n",
       "      <th>points</th>\n",
       "      <th>price</th>\n",
       "      <th>province</th>\n",
       "      <th>region_1</th>\n",
       "      <th>region_2</th>\n",
       "      <th>taster_name</th>\n",
       "      <th>taster_twitter_handle</th>\n",
       "      <th>title</th>\n",
       "      <th>variety</th>\n",
       "      <th>winery</th>\n",
       "    </tr>\n",
       "  </thead>\n",
       "  <tbody>\n",
       "    <tr>\n",
       "      <th>120</th>\n",
       "      <td>Italy</td>\n",
       "      <td>Slightly backward, particularly given the vint...</td>\n",
       "      <td>Bricco Rocche Prapó</td>\n",
       "      <td>92</td>\n",
       "      <td>70.0</td>\n",
       "      <td>Piedmont</td>\n",
       "      <td>Barolo</td>\n",
       "      <td>NaN</td>\n",
       "      <td>NaN</td>\n",
       "      <td>NaN</td>\n",
       "      <td>Ceretto 2003 Bricco Rocche Prapó  (Barolo)</td>\n",
       "      <td>Nebbiolo</td>\n",
       "      <td>Ceretto</td>\n",
       "    </tr>\n",
       "    <tr>\n",
       "      <th>130</th>\n",
       "      <td>Italy</td>\n",
       "      <td>At the first it was quite muted and subdued, b...</td>\n",
       "      <td>Bricco Rocche Brunate</td>\n",
       "      <td>91</td>\n",
       "      <td>70.0</td>\n",
       "      <td>Piedmont</td>\n",
       "      <td>Barolo</td>\n",
       "      <td>NaN</td>\n",
       "      <td>NaN</td>\n",
       "      <td>NaN</td>\n",
       "      <td>Ceretto 2003 Bricco Rocche Brunate  (Barolo)</td>\n",
       "      <td>Nebbiolo</td>\n",
       "      <td>Ceretto</td>\n",
       "    </tr>\n",
       "    <tr>\n",
       "      <th>133</th>\n",
       "      <td>Italy</td>\n",
       "      <td>Einaudi's wines have been improving lately, an...</td>\n",
       "      <td>NaN</td>\n",
       "      <td>91</td>\n",
       "      <td>68.0</td>\n",
       "      <td>Piedmont</td>\n",
       "      <td>Barolo</td>\n",
       "      <td>NaN</td>\n",
       "      <td>NaN</td>\n",
       "      <td>NaN</td>\n",
       "      <td>Poderi Luigi Einaudi 2003  Barolo</td>\n",
       "      <td>Nebbiolo</td>\n",
       "      <td>Poderi Luigi Einaudi</td>\n",
       "    </tr>\n",
       "    <tr>\n",
       "      <th>135</th>\n",
       "      <td>Italy</td>\n",
       "      <td>The color is just beginning to show signs of b...</td>\n",
       "      <td>Sorano</td>\n",
       "      <td>91</td>\n",
       "      <td>60.0</td>\n",
       "      <td>Piedmont</td>\n",
       "      <td>Barolo</td>\n",
       "      <td>NaN</td>\n",
       "      <td>NaN</td>\n",
       "      <td>NaN</td>\n",
       "      <td>Giacomo Ascheri 2001 Sorano  (Barolo)</td>\n",
       "      <td>Nebbiolo</td>\n",
       "      <td>Giacomo Ascheri</td>\n",
       "    </tr>\n",
       "    <tr>\n",
       "      <th>141</th>\n",
       "      <td>Italy</td>\n",
       "      <td>This is one of the more complex wines from the...</td>\n",
       "      <td>Vigna dei Pola</td>\n",
       "      <td>90</td>\n",
       "      <td>45.0</td>\n",
       "      <td>Piedmont</td>\n",
       "      <td>Barolo</td>\n",
       "      <td>NaN</td>\n",
       "      <td>NaN</td>\n",
       "      <td>NaN</td>\n",
       "      <td>Giacomo Ascheri 2003 Vigna dei Pola  (Barolo)</td>\n",
       "      <td>Nebbiolo</td>\n",
       "      <td>Giacomo Ascheri</td>\n",
       "    </tr>\n",
       "  </tbody>\n",
       "</table>\n",
       "</div>"
      ],
      "text/plain": [
       "    country                                        description  \\\n",
       "120   Italy  Slightly backward, particularly given the vint...   \n",
       "130   Italy  At the first it was quite muted and subdued, b...   \n",
       "133   Italy  Einaudi's wines have been improving lately, an...   \n",
       "135   Italy  The color is just beginning to show signs of b...   \n",
       "141   Italy  This is one of the more complex wines from the...   \n",
       "\n",
       "               designation  points  price  province region_1 region_2  \\\n",
       "120    Bricco Rocche Prapó      92   70.0  Piedmont   Barolo      NaN   \n",
       "130  Bricco Rocche Brunate      91   70.0  Piedmont   Barolo      NaN   \n",
       "133                    NaN      91   68.0  Piedmont   Barolo      NaN   \n",
       "135                 Sorano      91   60.0  Piedmont   Barolo      NaN   \n",
       "141         Vigna dei Pola      90   45.0  Piedmont   Barolo      NaN   \n",
       "\n",
       "    taster_name taster_twitter_handle  \\\n",
       "120         NaN                   NaN   \n",
       "130         NaN                   NaN   \n",
       "133         NaN                   NaN   \n",
       "135         NaN                   NaN   \n",
       "141         NaN                   NaN   \n",
       "\n",
       "                                             title   variety  \\\n",
       "120     Ceretto 2003 Bricco Rocche Prapó  (Barolo)  Nebbiolo   \n",
       "130   Ceretto 2003 Bricco Rocche Brunate  (Barolo)  Nebbiolo   \n",
       "133              Poderi Luigi Einaudi 2003  Barolo  Nebbiolo   \n",
       "135          Giacomo Ascheri 2001 Sorano  (Barolo)  Nebbiolo   \n",
       "141  Giacomo Ascheri 2003 Vigna dei Pola  (Barolo)  Nebbiolo   \n",
       "\n",
       "                   winery  \n",
       "120               Ceretto  \n",
       "130               Ceretto  \n",
       "133  Poderi Luigi Einaudi  \n",
       "135       Giacomo Ascheri  \n",
       "141       Giacomo Ascheri  "
      ]
     },
     "execution_count": 27,
     "metadata": {},
     "output_type": "execute_result"
    }
   ],
   "source": [
    "italy_wine=reviews.loc[(reviews.country == 'Italy') & (reviews.points >= 90) & (reviews['variety'] == 'Nebbiolo')]\n",
    "italy_wine.head()"
   ]
  },
  {
   "cell_type": "markdown",
   "id": "adec9820",
   "metadata": {},
   "source": [
    "### Select row that fulfill at least 1 conditions (or)"
   ]
  },
  {
   "cell_type": "code",
   "execution_count": 29,
   "id": "1c9f3c0e",
   "metadata": {},
   "outputs": [
    {
     "data": {
      "text/html": [
       "<div>\n",
       "<style scoped>\n",
       "    .dataframe tbody tr th:only-of-type {\n",
       "        vertical-align: middle;\n",
       "    }\n",
       "\n",
       "    .dataframe tbody tr th {\n",
       "        vertical-align: top;\n",
       "    }\n",
       "\n",
       "    .dataframe thead th {\n",
       "        text-align: right;\n",
       "    }\n",
       "</style>\n",
       "<table border=\"1\" class=\"dataframe\">\n",
       "  <thead>\n",
       "    <tr style=\"text-align: right;\">\n",
       "      <th></th>\n",
       "      <th>country</th>\n",
       "      <th>description</th>\n",
       "      <th>designation</th>\n",
       "      <th>points</th>\n",
       "      <th>price</th>\n",
       "      <th>province</th>\n",
       "      <th>region_1</th>\n",
       "      <th>region_2</th>\n",
       "      <th>taster_name</th>\n",
       "      <th>taster_twitter_handle</th>\n",
       "      <th>title</th>\n",
       "      <th>variety</th>\n",
       "      <th>winery</th>\n",
       "    </tr>\n",
       "  </thead>\n",
       "  <tbody>\n",
       "    <tr>\n",
       "      <th>0</th>\n",
       "      <td>Italy</td>\n",
       "      <td>Aromas include tropical fruit, broom, brimston...</td>\n",
       "      <td>Vulkà Bianco</td>\n",
       "      <td>87</td>\n",
       "      <td>NaN</td>\n",
       "      <td>Sicily &amp; Sardinia</td>\n",
       "      <td>Etna</td>\n",
       "      <td>NaN</td>\n",
       "      <td>Kerin O’Keefe</td>\n",
       "      <td>@kerinokeefe</td>\n",
       "      <td>Nicosia 2013 Vulkà Bianco  (Etna)</td>\n",
       "      <td>White Blend</td>\n",
       "      <td>Nicosia</td>\n",
       "    </tr>\n",
       "    <tr>\n",
       "      <th>6</th>\n",
       "      <td>Italy</td>\n",
       "      <td>Here's a bright, informal red that opens with ...</td>\n",
       "      <td>Belsito</td>\n",
       "      <td>87</td>\n",
       "      <td>16.0</td>\n",
       "      <td>Sicily &amp; Sardinia</td>\n",
       "      <td>Vittoria</td>\n",
       "      <td>NaN</td>\n",
       "      <td>Kerin O’Keefe</td>\n",
       "      <td>@kerinokeefe</td>\n",
       "      <td>Terre di Giurfo 2013 Belsito Frappato (Vittoria)</td>\n",
       "      <td>Frappato</td>\n",
       "      <td>Terre di Giurfo</td>\n",
       "    </tr>\n",
       "    <tr>\n",
       "      <th>13</th>\n",
       "      <td>Italy</td>\n",
       "      <td>This is dominated by oak and oak-driven aromas...</td>\n",
       "      <td>Rosso</td>\n",
       "      <td>87</td>\n",
       "      <td>NaN</td>\n",
       "      <td>Sicily &amp; Sardinia</td>\n",
       "      <td>Etna</td>\n",
       "      <td>NaN</td>\n",
       "      <td>Kerin O’Keefe</td>\n",
       "      <td>@kerinokeefe</td>\n",
       "      <td>Masseria Setteporte 2012 Rosso  (Etna)</td>\n",
       "      <td>Nerello Mascalese</td>\n",
       "      <td>Masseria Setteporte</td>\n",
       "    </tr>\n",
       "    <tr>\n",
       "      <th>22</th>\n",
       "      <td>Italy</td>\n",
       "      <td>Delicate aromas recall white flower and citrus...</td>\n",
       "      <td>Ficiligno</td>\n",
       "      <td>87</td>\n",
       "      <td>19.0</td>\n",
       "      <td>Sicily &amp; Sardinia</td>\n",
       "      <td>Sicilia</td>\n",
       "      <td>NaN</td>\n",
       "      <td>Kerin O’Keefe</td>\n",
       "      <td>@kerinokeefe</td>\n",
       "      <td>Baglio di Pianetto 2007 Ficiligno White (Sicilia)</td>\n",
       "      <td>White Blend</td>\n",
       "      <td>Baglio di Pianetto</td>\n",
       "    </tr>\n",
       "    <tr>\n",
       "      <th>24</th>\n",
       "      <td>Italy</td>\n",
       "      <td>Aromas of prune, blackcurrant, toast and oak c...</td>\n",
       "      <td>Aynat</td>\n",
       "      <td>87</td>\n",
       "      <td>35.0</td>\n",
       "      <td>Sicily &amp; Sardinia</td>\n",
       "      <td>Sicilia</td>\n",
       "      <td>NaN</td>\n",
       "      <td>Kerin O’Keefe</td>\n",
       "      <td>@kerinokeefe</td>\n",
       "      <td>Canicattì 2009 Aynat Nero d'Avola (Sicilia)</td>\n",
       "      <td>Nero d'Avola</td>\n",
       "      <td>Canicattì</td>\n",
       "    </tr>\n",
       "  </tbody>\n",
       "</table>\n",
       "</div>"
      ],
      "text/plain": [
       "   country                                        description   designation  \\\n",
       "0    Italy  Aromas include tropical fruit, broom, brimston...  Vulkà Bianco   \n",
       "6    Italy  Here's a bright, informal red that opens with ...       Belsito   \n",
       "13   Italy  This is dominated by oak and oak-driven aromas...         Rosso   \n",
       "22   Italy  Delicate aromas recall white flower and citrus...     Ficiligno   \n",
       "24   Italy  Aromas of prune, blackcurrant, toast and oak c...         Aynat   \n",
       "\n",
       "    points  price           province  region_1 region_2    taster_name  \\\n",
       "0       87    NaN  Sicily & Sardinia      Etna      NaN  Kerin O’Keefe   \n",
       "6       87   16.0  Sicily & Sardinia  Vittoria      NaN  Kerin O’Keefe   \n",
       "13      87    NaN  Sicily & Sardinia      Etna      NaN  Kerin O’Keefe   \n",
       "22      87   19.0  Sicily & Sardinia   Sicilia      NaN  Kerin O’Keefe   \n",
       "24      87   35.0  Sicily & Sardinia   Sicilia      NaN  Kerin O’Keefe   \n",
       "\n",
       "   taster_twitter_handle                                              title  \\\n",
       "0           @kerinokeefe                  Nicosia 2013 Vulkà Bianco  (Etna)   \n",
       "6           @kerinokeefe   Terre di Giurfo 2013 Belsito Frappato (Vittoria)   \n",
       "13          @kerinokeefe             Masseria Setteporte 2012 Rosso  (Etna)   \n",
       "22          @kerinokeefe  Baglio di Pianetto 2007 Ficiligno White (Sicilia)   \n",
       "24          @kerinokeefe        Canicattì 2009 Aynat Nero d'Avola (Sicilia)   \n",
       "\n",
       "              variety               winery  \n",
       "0         White Blend              Nicosia  \n",
       "6            Frappato      Terre di Giurfo  \n",
       "13  Nerello Mascalese  Masseria Setteporte  \n",
       "22        White Blend   Baglio di Pianetto  \n",
       "24       Nero d'Avola            Canicattì  "
      ]
     },
     "execution_count": 29,
     "metadata": {},
     "output_type": "execute_result"
    }
   ],
   "source": [
    "italy_wine=reviews.loc[(reviews.country == 'Italy') | (reviews.points >= 90)]\n",
    "italy_wine.head()"
   ]
  },
  {
   "cell_type": "markdown",
   "id": "27f0bb07",
   "metadata": {},
   "source": [
    "### Select row that fulfill at least one condition from the same column (isin)"
   ]
  },
  {
   "cell_type": "code",
   "execution_count": 30,
   "id": "ace2041a",
   "metadata": {},
   "outputs": [
    {
     "data": {
      "text/html": [
       "<div>\n",
       "<style scoped>\n",
       "    .dataframe tbody tr th:only-of-type {\n",
       "        vertical-align: middle;\n",
       "    }\n",
       "\n",
       "    .dataframe tbody tr th {\n",
       "        vertical-align: top;\n",
       "    }\n",
       "\n",
       "    .dataframe thead th {\n",
       "        text-align: right;\n",
       "    }\n",
       "</style>\n",
       "<table border=\"1\" class=\"dataframe\">\n",
       "  <thead>\n",
       "    <tr style=\"text-align: right;\">\n",
       "      <th></th>\n",
       "      <th>country</th>\n",
       "      <th>description</th>\n",
       "      <th>designation</th>\n",
       "      <th>points</th>\n",
       "      <th>price</th>\n",
       "      <th>province</th>\n",
       "      <th>region_1</th>\n",
       "      <th>region_2</th>\n",
       "      <th>taster_name</th>\n",
       "      <th>taster_twitter_handle</th>\n",
       "      <th>title</th>\n",
       "      <th>variety</th>\n",
       "      <th>winery</th>\n",
       "    </tr>\n",
       "  </thead>\n",
       "  <tbody>\n",
       "    <tr>\n",
       "      <th>0</th>\n",
       "      <td>Italy</td>\n",
       "      <td>Aromas include tropical fruit, broom, brimston...</td>\n",
       "      <td>Vulkà Bianco</td>\n",
       "      <td>87</td>\n",
       "      <td>NaN</td>\n",
       "      <td>Sicily &amp; Sardinia</td>\n",
       "      <td>Etna</td>\n",
       "      <td>NaN</td>\n",
       "      <td>Kerin O’Keefe</td>\n",
       "      <td>@kerinokeefe</td>\n",
       "      <td>Nicosia 2013 Vulkà Bianco  (Etna)</td>\n",
       "      <td>White Blend</td>\n",
       "      <td>Nicosia</td>\n",
       "    </tr>\n",
       "    <tr>\n",
       "      <th>6</th>\n",
       "      <td>Italy</td>\n",
       "      <td>Here's a bright, informal red that opens with ...</td>\n",
       "      <td>Belsito</td>\n",
       "      <td>87</td>\n",
       "      <td>16.0</td>\n",
       "      <td>Sicily &amp; Sardinia</td>\n",
       "      <td>Vittoria</td>\n",
       "      <td>NaN</td>\n",
       "      <td>Kerin O’Keefe</td>\n",
       "      <td>@kerinokeefe</td>\n",
       "      <td>Terre di Giurfo 2013 Belsito Frappato (Vittoria)</td>\n",
       "      <td>Frappato</td>\n",
       "      <td>Terre di Giurfo</td>\n",
       "    </tr>\n",
       "    <tr>\n",
       "      <th>7</th>\n",
       "      <td>France</td>\n",
       "      <td>This dry and restrained wine offers spice in p...</td>\n",
       "      <td>NaN</td>\n",
       "      <td>87</td>\n",
       "      <td>24.0</td>\n",
       "      <td>Alsace</td>\n",
       "      <td>Alsace</td>\n",
       "      <td>NaN</td>\n",
       "      <td>Roger Voss</td>\n",
       "      <td>@vossroger</td>\n",
       "      <td>Trimbach 2012 Gewurztraminer (Alsace)</td>\n",
       "      <td>Gewürztraminer</td>\n",
       "      <td>Trimbach</td>\n",
       "    </tr>\n",
       "    <tr>\n",
       "      <th>9</th>\n",
       "      <td>France</td>\n",
       "      <td>This has great depth of flavor with its fresh ...</td>\n",
       "      <td>Les Natures</td>\n",
       "      <td>87</td>\n",
       "      <td>27.0</td>\n",
       "      <td>Alsace</td>\n",
       "      <td>Alsace</td>\n",
       "      <td>NaN</td>\n",
       "      <td>Roger Voss</td>\n",
       "      <td>@vossroger</td>\n",
       "      <td>Jean-Baptiste Adam 2012 Les Natures Pinot Gris...</td>\n",
       "      <td>Pinot Gris</td>\n",
       "      <td>Jean-Baptiste Adam</td>\n",
       "    </tr>\n",
       "    <tr>\n",
       "      <th>11</th>\n",
       "      <td>France</td>\n",
       "      <td>This is a dry wine, very spicy, with a tight, ...</td>\n",
       "      <td>NaN</td>\n",
       "      <td>87</td>\n",
       "      <td>30.0</td>\n",
       "      <td>Alsace</td>\n",
       "      <td>Alsace</td>\n",
       "      <td>NaN</td>\n",
       "      <td>Roger Voss</td>\n",
       "      <td>@vossroger</td>\n",
       "      <td>Leon Beyer 2012 Gewurztraminer (Alsace)</td>\n",
       "      <td>Gewürztraminer</td>\n",
       "      <td>Leon Beyer</td>\n",
       "    </tr>\n",
       "  </tbody>\n",
       "</table>\n",
       "</div>"
      ],
      "text/plain": [
       "   country                                        description   designation  \\\n",
       "0    Italy  Aromas include tropical fruit, broom, brimston...  Vulkà Bianco   \n",
       "6    Italy  Here's a bright, informal red that opens with ...       Belsito   \n",
       "7   France  This dry and restrained wine offers spice in p...           NaN   \n",
       "9   France  This has great depth of flavor with its fresh ...   Les Natures   \n",
       "11  France  This is a dry wine, very spicy, with a tight, ...           NaN   \n",
       "\n",
       "    points  price           province  region_1 region_2    taster_name  \\\n",
       "0       87    NaN  Sicily & Sardinia      Etna      NaN  Kerin O’Keefe   \n",
       "6       87   16.0  Sicily & Sardinia  Vittoria      NaN  Kerin O’Keefe   \n",
       "7       87   24.0             Alsace    Alsace      NaN     Roger Voss   \n",
       "9       87   27.0             Alsace    Alsace      NaN     Roger Voss   \n",
       "11      87   30.0             Alsace    Alsace      NaN     Roger Voss   \n",
       "\n",
       "   taster_twitter_handle                                              title  \\\n",
       "0           @kerinokeefe                  Nicosia 2013 Vulkà Bianco  (Etna)   \n",
       "6           @kerinokeefe   Terre di Giurfo 2013 Belsito Frappato (Vittoria)   \n",
       "7             @vossroger              Trimbach 2012 Gewurztraminer (Alsace)   \n",
       "9             @vossroger  Jean-Baptiste Adam 2012 Les Natures Pinot Gris...   \n",
       "11            @vossroger            Leon Beyer 2012 Gewurztraminer (Alsace)   \n",
       "\n",
       "           variety              winery  \n",
       "0      White Blend             Nicosia  \n",
       "6         Frappato     Terre di Giurfo  \n",
       "7   Gewürztraminer            Trimbach  \n",
       "9       Pinot Gris  Jean-Baptiste Adam  \n",
       "11  Gewürztraminer          Leon Beyer  "
      ]
     },
     "execution_count": 30,
     "metadata": {},
     "output_type": "execute_result"
    }
   ],
   "source": [
    "italy_wine=reviews.loc[reviews.country.isin(['Italy', 'France'])]\n",
    "italy_wine.head()"
   ]
  },
  {
   "cell_type": "markdown",
   "id": "7e09b6c6",
   "metadata": {},
   "source": [
    "### Select row where the specified column is notnull"
   ]
  },
  {
   "cell_type": "code",
   "execution_count": 31,
   "id": "0387888d",
   "metadata": {},
   "outputs": [
    {
     "data": {
      "text/html": [
       "<div>\n",
       "<style scoped>\n",
       "    .dataframe tbody tr th:only-of-type {\n",
       "        vertical-align: middle;\n",
       "    }\n",
       "\n",
       "    .dataframe tbody tr th {\n",
       "        vertical-align: top;\n",
       "    }\n",
       "\n",
       "    .dataframe thead th {\n",
       "        text-align: right;\n",
       "    }\n",
       "</style>\n",
       "<table border=\"1\" class=\"dataframe\">\n",
       "  <thead>\n",
       "    <tr style=\"text-align: right;\">\n",
       "      <th></th>\n",
       "      <th>country</th>\n",
       "      <th>description</th>\n",
       "      <th>designation</th>\n",
       "      <th>points</th>\n",
       "      <th>price</th>\n",
       "      <th>province</th>\n",
       "      <th>region_1</th>\n",
       "      <th>region_2</th>\n",
       "      <th>taster_name</th>\n",
       "      <th>taster_twitter_handle</th>\n",
       "      <th>title</th>\n",
       "      <th>variety</th>\n",
       "      <th>winery</th>\n",
       "    </tr>\n",
       "  </thead>\n",
       "  <tbody>\n",
       "    <tr>\n",
       "      <th>1</th>\n",
       "      <td>Portugal</td>\n",
       "      <td>This is ripe and fruity, a wine that is smooth...</td>\n",
       "      <td>Avidagos</td>\n",
       "      <td>87</td>\n",
       "      <td>15.0</td>\n",
       "      <td>Douro</td>\n",
       "      <td>NaN</td>\n",
       "      <td>NaN</td>\n",
       "      <td>Roger Voss</td>\n",
       "      <td>@vossroger</td>\n",
       "      <td>Quinta dos Avidagos 2011 Avidagos Red (Douro)</td>\n",
       "      <td>Portuguese Red</td>\n",
       "      <td>Quinta dos Avidagos</td>\n",
       "    </tr>\n",
       "    <tr>\n",
       "      <th>2</th>\n",
       "      <td>US</td>\n",
       "      <td>Tart and snappy, the flavors of lime flesh and...</td>\n",
       "      <td>NaN</td>\n",
       "      <td>87</td>\n",
       "      <td>14.0</td>\n",
       "      <td>Oregon</td>\n",
       "      <td>Willamette Valley</td>\n",
       "      <td>Willamette Valley</td>\n",
       "      <td>Paul Gregutt</td>\n",
       "      <td>@paulgwine</td>\n",
       "      <td>Rainstorm 2013 Pinot Gris (Willamette Valley)</td>\n",
       "      <td>Pinot Gris</td>\n",
       "      <td>Rainstorm</td>\n",
       "    </tr>\n",
       "  </tbody>\n",
       "</table>\n",
       "</div>"
      ],
      "text/plain": [
       "    country                                        description designation  \\\n",
       "1  Portugal  This is ripe and fruity, a wine that is smooth...    Avidagos   \n",
       "2        US  Tart and snappy, the flavors of lime flesh and...         NaN   \n",
       "\n",
       "   points  price province           region_1           region_2   taster_name  \\\n",
       "1      87   15.0    Douro                NaN                NaN    Roger Voss   \n",
       "2      87   14.0   Oregon  Willamette Valley  Willamette Valley  Paul Gregutt   \n",
       "\n",
       "  taster_twitter_handle                                          title  \\\n",
       "1            @vossroger  Quinta dos Avidagos 2011 Avidagos Red (Douro)   \n",
       "2           @paulgwine   Rainstorm 2013 Pinot Gris (Willamette Valley)   \n",
       "\n",
       "          variety               winery  \n",
       "1  Portuguese Red  Quinta dos Avidagos  \n",
       "2      Pinot Gris            Rainstorm  "
      ]
     },
     "execution_count": 31,
     "metadata": {},
     "output_type": "execute_result"
    }
   ],
   "source": [
    "italy_wine=reviews.loc[reviews.price.notnull()]\n",
    "italy_wine.head(2)"
   ]
  },
  {
   "cell_type": "markdown",
   "id": "c0ab3304",
   "metadata": {},
   "source": [
    "### Select row where the specified column isnull"
   ]
  },
  {
   "cell_type": "code",
   "execution_count": 32,
   "id": "81e8d785",
   "metadata": {},
   "outputs": [
    {
     "data": {
      "text/html": [
       "<div>\n",
       "<style scoped>\n",
       "    .dataframe tbody tr th:only-of-type {\n",
       "        vertical-align: middle;\n",
       "    }\n",
       "\n",
       "    .dataframe tbody tr th {\n",
       "        vertical-align: top;\n",
       "    }\n",
       "\n",
       "    .dataframe thead th {\n",
       "        text-align: right;\n",
       "    }\n",
       "</style>\n",
       "<table border=\"1\" class=\"dataframe\">\n",
       "  <thead>\n",
       "    <tr style=\"text-align: right;\">\n",
       "      <th></th>\n",
       "      <th>country</th>\n",
       "      <th>description</th>\n",
       "      <th>designation</th>\n",
       "      <th>points</th>\n",
       "      <th>price</th>\n",
       "      <th>province</th>\n",
       "      <th>region_1</th>\n",
       "      <th>region_2</th>\n",
       "      <th>taster_name</th>\n",
       "      <th>taster_twitter_handle</th>\n",
       "      <th>title</th>\n",
       "      <th>variety</th>\n",
       "      <th>winery</th>\n",
       "    </tr>\n",
       "  </thead>\n",
       "  <tbody>\n",
       "    <tr>\n",
       "      <th>0</th>\n",
       "      <td>Italy</td>\n",
       "      <td>Aromas include tropical fruit, broom, brimston...</td>\n",
       "      <td>Vulkà Bianco</td>\n",
       "      <td>87</td>\n",
       "      <td>NaN</td>\n",
       "      <td>Sicily &amp; Sardinia</td>\n",
       "      <td>Etna</td>\n",
       "      <td>NaN</td>\n",
       "      <td>Kerin O’Keefe</td>\n",
       "      <td>@kerinokeefe</td>\n",
       "      <td>Nicosia 2013 Vulkà Bianco  (Etna)</td>\n",
       "      <td>White Blend</td>\n",
       "      <td>Nicosia</td>\n",
       "    </tr>\n",
       "    <tr>\n",
       "      <th>13</th>\n",
       "      <td>Italy</td>\n",
       "      <td>This is dominated by oak and oak-driven aromas...</td>\n",
       "      <td>Rosso</td>\n",
       "      <td>87</td>\n",
       "      <td>NaN</td>\n",
       "      <td>Sicily &amp; Sardinia</td>\n",
       "      <td>Etna</td>\n",
       "      <td>NaN</td>\n",
       "      <td>Kerin O’Keefe</td>\n",
       "      <td>@kerinokeefe</td>\n",
       "      <td>Masseria Setteporte 2012 Rosso  (Etna)</td>\n",
       "      <td>Nerello Mascalese</td>\n",
       "      <td>Masseria Setteporte</td>\n",
       "    </tr>\n",
       "  </tbody>\n",
       "</table>\n",
       "</div>"
      ],
      "text/plain": [
       "   country                                        description   designation  \\\n",
       "0    Italy  Aromas include tropical fruit, broom, brimston...  Vulkà Bianco   \n",
       "13   Italy  This is dominated by oak and oak-driven aromas...         Rosso   \n",
       "\n",
       "    points  price           province region_1 region_2    taster_name  \\\n",
       "0       87    NaN  Sicily & Sardinia     Etna      NaN  Kerin O’Keefe   \n",
       "13      87    NaN  Sicily & Sardinia     Etna      NaN  Kerin O’Keefe   \n",
       "\n",
       "   taster_twitter_handle                                   title  \\\n",
       "0           @kerinokeefe       Nicosia 2013 Vulkà Bianco  (Etna)   \n",
       "13          @kerinokeefe  Masseria Setteporte 2012 Rosso  (Etna)   \n",
       "\n",
       "              variety               winery  \n",
       "0         White Blend              Nicosia  \n",
       "13  Nerello Mascalese  Masseria Setteporte  "
      ]
     },
     "execution_count": 32,
     "metadata": {},
     "output_type": "execute_result"
    }
   ],
   "source": [
    "italy_wine=reviews.loc[reviews.price.isnull()]\n",
    "italy_wine.head(2)"
   ]
  },
  {
   "cell_type": "markdown",
   "id": "ae721e73",
   "metadata": {},
   "source": [
    "## Assigning data"
   ]
  },
  {
   "cell_type": "markdown",
   "id": "c1df6386",
   "metadata": {},
   "source": [
    "### Create a new column with a defined values"
   ]
  },
  {
   "cell_type": "code",
   "execution_count": 35,
   "id": "dc0b0829",
   "metadata": {},
   "outputs": [
    {
     "data": {
      "text/plain": [
       "0         everyone\n",
       "1         everyone\n",
       "2         everyone\n",
       "3         everyone\n",
       "4         everyone\n",
       "            ...   \n",
       "129966    everyone\n",
       "129967    everyone\n",
       "129968    everyone\n",
       "129969    everyone\n",
       "129970    everyone\n",
       "Name: critic, Length: 129971, dtype: object"
      ]
     },
     "execution_count": 35,
     "metadata": {},
     "output_type": "execute_result"
    }
   ],
   "source": [
    "reviews['critic'] = 'everyone'\n",
    "reviews['critic']"
   ]
  },
  {
   "cell_type": "markdown",
   "id": "56b8e51f",
   "metadata": {},
   "source": [
    "### Create a new column with the values ranging from len(reviews) to 0"
   ]
  },
  {
   "cell_type": "code",
   "execution_count": 36,
   "id": "a5b40cec",
   "metadata": {},
   "outputs": [
    {
     "data": {
      "text/plain": [
       "0         129971\n",
       "1         129970\n",
       "2         129969\n",
       "3         129968\n",
       "4         129967\n",
       "           ...  \n",
       "129966         5\n",
       "129967         4\n",
       "129968         3\n",
       "129969         2\n",
       "129970         1\n",
       "Name: index_backwards, Length: 129971, dtype: int64"
      ]
     },
     "execution_count": 36,
     "metadata": {},
     "output_type": "execute_result"
    }
   ],
   "source": [
    "reviews['index_backwards'] = range(len(reviews), 0, -1)\n",
    "reviews['index_backwards']"
   ]
  },
  {
   "cell_type": "markdown",
   "id": "5e771190",
   "metadata": {},
   "source": [
    "### Create a new category with a defined values"
   ]
  },
  {
   "cell_type": "code",
   "execution_count": 37,
   "id": "d35e3cf5",
   "metadata": {},
   "outputs": [],
   "source": [
    "reviews[\"price_category\"] = \"Normal\""
   ]
  },
  {
   "cell_type": "markdown",
   "id": "ac3e5d38",
   "metadata": {},
   "source": [
    "### Change the values of the \"price_category\" column where the price is higher than 1000 to \"Luxus\""
   ]
  },
  {
   "cell_type": "code",
   "execution_count": 41,
   "id": "f6a8fc71",
   "metadata": {},
   "outputs": [],
   "source": [
    "reviews.loc[reviews[\"price\"] > 100, \"price_category\"] = \"Luxus\""
   ]
  },
  {
   "cell_type": "markdown",
   "id": "0ce94458",
   "metadata": {},
   "source": [
    "### Check the row that fulfill the condition of \"Luxus\""
   ]
  },
  {
   "cell_type": "code",
   "execution_count": 42,
   "id": "c0fa566a",
   "metadata": {
    "scrolled": true
   },
   "outputs": [
    {
     "data": {
      "text/html": [
       "<div>\n",
       "<style scoped>\n",
       "    .dataframe tbody tr th:only-of-type {\n",
       "        vertical-align: middle;\n",
       "    }\n",
       "\n",
       "    .dataframe tbody tr th {\n",
       "        vertical-align: top;\n",
       "    }\n",
       "\n",
       "    .dataframe thead th {\n",
       "        text-align: right;\n",
       "    }\n",
       "</style>\n",
       "<table border=\"1\" class=\"dataframe\">\n",
       "  <thead>\n",
       "    <tr style=\"text-align: right;\">\n",
       "      <th></th>\n",
       "      <th>country</th>\n",
       "      <th>description</th>\n",
       "      <th>designation</th>\n",
       "      <th>points</th>\n",
       "      <th>price</th>\n",
       "      <th>province</th>\n",
       "      <th>region_1</th>\n",
       "      <th>region_2</th>\n",
       "      <th>taster_name</th>\n",
       "      <th>taster_twitter_handle</th>\n",
       "      <th>title</th>\n",
       "      <th>variety</th>\n",
       "      <th>winery</th>\n",
       "      <th>critic</th>\n",
       "      <th>index_backwards</th>\n",
       "      <th>price_category</th>\n",
       "    </tr>\n",
       "  </thead>\n",
       "  <tbody>\n",
       "    <tr>\n",
       "      <th>139</th>\n",
       "      <td>France</td>\n",
       "      <td>Beautiful deep gold color. Intense, concentrat...</td>\n",
       "      <td>Cuvée Jerémy Sélection de Grains Nobles</td>\n",
       "      <td>90</td>\n",
       "      <td>112.0</td>\n",
       "      <td>Alsace</td>\n",
       "      <td>Alsace</td>\n",
       "      <td>NaN</td>\n",
       "      <td>NaN</td>\n",
       "      <td>NaN</td>\n",
       "      <td>Kuentz-Bas 2007 Cuvée Jerémy Sélection de Grai...</td>\n",
       "      <td>Pinot Gris</td>\n",
       "      <td>Kuentz-Bas</td>\n",
       "      <td>everyone</td>\n",
       "      <td>129832</td>\n",
       "      <td>Luxus</td>\n",
       "    </tr>\n",
       "    <tr>\n",
       "      <th>284</th>\n",
       "      <td>Argentina</td>\n",
       "      <td>This huge Malbec defines jammy and concentrate...</td>\n",
       "      <td>Marchiori Vineyard Block C2</td>\n",
       "      <td>92</td>\n",
       "      <td>215.0</td>\n",
       "      <td>Mendoza Province</td>\n",
       "      <td>Perdriel</td>\n",
       "      <td>NaN</td>\n",
       "      <td>Michael Schachner</td>\n",
       "      <td>@wineschach</td>\n",
       "      <td>Viña Cobos 2011 Marchiori Vineyard Block C2 Ma...</td>\n",
       "      <td>Malbec</td>\n",
       "      <td>Viña Cobos</td>\n",
       "      <td>everyone</td>\n",
       "      <td>129687</td>\n",
       "      <td>Luxus</td>\n",
       "    </tr>\n",
       "    <tr>\n",
       "      <th>289</th>\n",
       "      <td>US</td>\n",
       "      <td>This 100% Cabernet Sauvignon is so rich and de...</td>\n",
       "      <td>Fortune Teller</td>\n",
       "      <td>92</td>\n",
       "      <td>125.0</td>\n",
       "      <td>California</td>\n",
       "      <td>Napa Valley</td>\n",
       "      <td>Napa</td>\n",
       "      <td>NaN</td>\n",
       "      <td>NaN</td>\n",
       "      <td>Parallel 2010 Fortune Teller Cabernet Sauvigno...</td>\n",
       "      <td>Cabernet Sauvignon</td>\n",
       "      <td>Parallel</td>\n",
       "      <td>everyone</td>\n",
       "      <td>129682</td>\n",
       "      <td>Luxus</td>\n",
       "    </tr>\n",
       "    <tr>\n",
       "      <th>345</th>\n",
       "      <td>Australia</td>\n",
       "      <td>This wine contains some material over 100 year...</td>\n",
       "      <td>Rare</td>\n",
       "      <td>100</td>\n",
       "      <td>350.0</td>\n",
       "      <td>Victoria</td>\n",
       "      <td>Rutherglen</td>\n",
       "      <td>NaN</td>\n",
       "      <td>Joe Czerwinski</td>\n",
       "      <td>@JoeCz</td>\n",
       "      <td>Chambers Rosewood Vineyards NV Rare Muscat (Ru...</td>\n",
       "      <td>Muscat</td>\n",
       "      <td>Chambers Rosewood Vineyards</td>\n",
       "      <td>everyone</td>\n",
       "      <td>129626</td>\n",
       "      <td>Luxus</td>\n",
       "    </tr>\n",
       "    <tr>\n",
       "      <th>346</th>\n",
       "      <td>Australia</td>\n",
       "      <td>This deep brown wine smells like a damp, mossy...</td>\n",
       "      <td>Rare</td>\n",
       "      <td>98</td>\n",
       "      <td>350.0</td>\n",
       "      <td>Victoria</td>\n",
       "      <td>Rutherglen</td>\n",
       "      <td>NaN</td>\n",
       "      <td>Joe Czerwinski</td>\n",
       "      <td>@JoeCz</td>\n",
       "      <td>Chambers Rosewood Vineyards NV Rare Muscadelle...</td>\n",
       "      <td>Muscadelle</td>\n",
       "      <td>Chambers Rosewood Vineyards</td>\n",
       "      <td>everyone</td>\n",
       "      <td>129625</td>\n",
       "      <td>Luxus</td>\n",
       "    </tr>\n",
       "    <tr>\n",
       "      <th>...</th>\n",
       "      <td>...</td>\n",
       "      <td>...</td>\n",
       "      <td>...</td>\n",
       "      <td>...</td>\n",
       "      <td>...</td>\n",
       "      <td>...</td>\n",
       "      <td>...</td>\n",
       "      <td>...</td>\n",
       "      <td>...</td>\n",
       "      <td>...</td>\n",
       "      <td>...</td>\n",
       "      <td>...</td>\n",
       "      <td>...</td>\n",
       "      <td>...</td>\n",
       "      <td>...</td>\n",
       "      <td>...</td>\n",
       "    </tr>\n",
       "    <tr>\n",
       "      <th>129725</th>\n",
       "      <td>US</td>\n",
       "      <td>This robust wine is made from 62% Merlot, 37% ...</td>\n",
       "      <td>Reserve</td>\n",
       "      <td>90</td>\n",
       "      <td>140.0</td>\n",
       "      <td>California</td>\n",
       "      <td>Sonoma County-Napa County</td>\n",
       "      <td>Napa-Sonoma</td>\n",
       "      <td>Virginie Boone</td>\n",
       "      <td>@vboone</td>\n",
       "      <td>Pride Mountain 2013 Reserve Claret (Sonoma Cou...</td>\n",
       "      <td>Claret</td>\n",
       "      <td>Pride Mountain</td>\n",
       "      <td>everyone</td>\n",
       "      <td>246</td>\n",
       "      <td>Luxus</td>\n",
       "    </tr>\n",
       "    <tr>\n",
       "      <th>129729</th>\n",
       "      <td>Spain</td>\n",
       "      <td>Bold oak on the nose places aromas of hickory ...</td>\n",
       "      <td>NaN</td>\n",
       "      <td>90</td>\n",
       "      <td>140.0</td>\n",
       "      <td>Northern Spain</td>\n",
       "      <td>Rioja</td>\n",
       "      <td>NaN</td>\n",
       "      <td>Michael Schachner</td>\n",
       "      <td>@wineschach</td>\n",
       "      <td>Contino 2011  Rioja</td>\n",
       "      <td>Graciano</td>\n",
       "      <td>Contino</td>\n",
       "      <td>everyone</td>\n",
       "      <td>242</td>\n",
       "      <td>Luxus</td>\n",
       "    </tr>\n",
       "    <tr>\n",
       "      <th>129818</th>\n",
       "      <td>France</td>\n",
       "      <td>Concentrated, with dark tannins to go with the...</td>\n",
       "      <td>Les Damodes</td>\n",
       "      <td>89</td>\n",
       "      <td>115.0</td>\n",
       "      <td>Burgundy</td>\n",
       "      <td>Nuits-St.-Georges</td>\n",
       "      <td>NaN</td>\n",
       "      <td>Roger Voss</td>\n",
       "      <td>@vossroger</td>\n",
       "      <td>Louis Latour 2009 Les Damodes  (Nuits-St.-Geor...</td>\n",
       "      <td>Pinot Noir</td>\n",
       "      <td>Louis Latour</td>\n",
       "      <td>everyone</td>\n",
       "      <td>153</td>\n",
       "      <td>Luxus</td>\n",
       "    </tr>\n",
       "    <tr>\n",
       "      <th>129919</th>\n",
       "      <td>US</td>\n",
       "      <td>This ripe, rich, almost decadently thick wine ...</td>\n",
       "      <td>Reserve</td>\n",
       "      <td>91</td>\n",
       "      <td>105.0</td>\n",
       "      <td>Washington</td>\n",
       "      <td>Walla Walla Valley (WA)</td>\n",
       "      <td>Columbia Valley</td>\n",
       "      <td>Paul Gregutt</td>\n",
       "      <td>@paulgwine</td>\n",
       "      <td>Nicholas Cole Cellars 2004 Reserve Red (Walla ...</td>\n",
       "      <td>Red Blend</td>\n",
       "      <td>Nicholas Cole Cellars</td>\n",
       "      <td>everyone</td>\n",
       "      <td>52</td>\n",
       "      <td>Luxus</td>\n",
       "    </tr>\n",
       "    <tr>\n",
       "      <th>129931</th>\n",
       "      <td>France</td>\n",
       "      <td>A powerful, chunky wine, packed with solid tan...</td>\n",
       "      <td>NaN</td>\n",
       "      <td>91</td>\n",
       "      <td>107.0</td>\n",
       "      <td>Burgundy</td>\n",
       "      <td>Grands-Echezeaux</td>\n",
       "      <td>NaN</td>\n",
       "      <td>Roger Voss</td>\n",
       "      <td>@vossroger</td>\n",
       "      <td>Henri de Villamont 2005  Grands-Echezeaux</td>\n",
       "      <td>Pinot Noir</td>\n",
       "      <td>Henri de Villamont</td>\n",
       "      <td>everyone</td>\n",
       "      <td>40</td>\n",
       "      <td>Luxus</td>\n",
       "    </tr>\n",
       "  </tbody>\n",
       "</table>\n",
       "<p>3366 rows × 16 columns</p>\n",
       "</div>"
      ],
      "text/plain": [
       "          country                                        description  \\\n",
       "139        France  Beautiful deep gold color. Intense, concentrat...   \n",
       "284     Argentina  This huge Malbec defines jammy and concentrate...   \n",
       "289            US  This 100% Cabernet Sauvignon is so rich and de...   \n",
       "345     Australia  This wine contains some material over 100 year...   \n",
       "346     Australia  This deep brown wine smells like a damp, mossy...   \n",
       "...           ...                                                ...   \n",
       "129725         US  This robust wine is made from 62% Merlot, 37% ...   \n",
       "129729      Spain  Bold oak on the nose places aromas of hickory ...   \n",
       "129818     France  Concentrated, with dark tannins to go with the...   \n",
       "129919         US  This ripe, rich, almost decadently thick wine ...   \n",
       "129931     France  A powerful, chunky wine, packed with solid tan...   \n",
       "\n",
       "                                    designation  points  price  \\\n",
       "139     Cuvée Jerémy Sélection de Grains Nobles      90  112.0   \n",
       "284                 Marchiori Vineyard Block C2      92  215.0   \n",
       "289                              Fortune Teller      92  125.0   \n",
       "345                                        Rare     100  350.0   \n",
       "346                                        Rare      98  350.0   \n",
       "...                                         ...     ...    ...   \n",
       "129725                                  Reserve      90  140.0   \n",
       "129729                                      NaN      90  140.0   \n",
       "129818                              Les Damodes      89  115.0   \n",
       "129919                                  Reserve      91  105.0   \n",
       "129931                                      NaN      91  107.0   \n",
       "\n",
       "                province                   region_1         region_2  \\\n",
       "139               Alsace                     Alsace              NaN   \n",
       "284     Mendoza Province                   Perdriel              NaN   \n",
       "289           California                Napa Valley             Napa   \n",
       "345             Victoria                 Rutherglen              NaN   \n",
       "346             Victoria                 Rutherglen              NaN   \n",
       "...                  ...                        ...              ...   \n",
       "129725        California  Sonoma County-Napa County      Napa-Sonoma   \n",
       "129729    Northern Spain                      Rioja              NaN   \n",
       "129818          Burgundy          Nuits-St.-Georges              NaN   \n",
       "129919        Washington    Walla Walla Valley (WA)  Columbia Valley   \n",
       "129931          Burgundy           Grands-Echezeaux              NaN   \n",
       "\n",
       "              taster_name taster_twitter_handle  \\\n",
       "139                   NaN                   NaN   \n",
       "284     Michael Schachner           @wineschach   \n",
       "289                   NaN                   NaN   \n",
       "345        Joe Czerwinski                @JoeCz   \n",
       "346        Joe Czerwinski                @JoeCz   \n",
       "...                   ...                   ...   \n",
       "129725     Virginie Boone               @vboone   \n",
       "129729  Michael Schachner           @wineschach   \n",
       "129818         Roger Voss            @vossroger   \n",
       "129919       Paul Gregutt           @paulgwine    \n",
       "129931         Roger Voss            @vossroger   \n",
       "\n",
       "                                                    title             variety  \\\n",
       "139     Kuentz-Bas 2007 Cuvée Jerémy Sélection de Grai...          Pinot Gris   \n",
       "284     Viña Cobos 2011 Marchiori Vineyard Block C2 Ma...              Malbec   \n",
       "289     Parallel 2010 Fortune Teller Cabernet Sauvigno...  Cabernet Sauvignon   \n",
       "345     Chambers Rosewood Vineyards NV Rare Muscat (Ru...              Muscat   \n",
       "346     Chambers Rosewood Vineyards NV Rare Muscadelle...          Muscadelle   \n",
       "...                                                   ...                 ...   \n",
       "129725  Pride Mountain 2013 Reserve Claret (Sonoma Cou...              Claret   \n",
       "129729                                Contino 2011  Rioja            Graciano   \n",
       "129818  Louis Latour 2009 Les Damodes  (Nuits-St.-Geor...          Pinot Noir   \n",
       "129919  Nicholas Cole Cellars 2004 Reserve Red (Walla ...           Red Blend   \n",
       "129931          Henri de Villamont 2005  Grands-Echezeaux          Pinot Noir   \n",
       "\n",
       "                             winery    critic  index_backwards price_category  \n",
       "139                      Kuentz-Bas  everyone           129832          Luxus  \n",
       "284                      Viña Cobos  everyone           129687          Luxus  \n",
       "289                        Parallel  everyone           129682          Luxus  \n",
       "345     Chambers Rosewood Vineyards  everyone           129626          Luxus  \n",
       "346     Chambers Rosewood Vineyards  everyone           129625          Luxus  \n",
       "...                             ...       ...              ...            ...  \n",
       "129725               Pride Mountain  everyone              246          Luxus  \n",
       "129729                      Contino  everyone              242          Luxus  \n",
       "129818                 Louis Latour  everyone              153          Luxus  \n",
       "129919        Nicholas Cole Cellars  everyone               52          Luxus  \n",
       "129931           Henri de Villamont  everyone               40          Luxus  \n",
       "\n",
       "[3366 rows x 16 columns]"
      ]
     },
     "execution_count": 42,
     "metadata": {},
     "output_type": "execute_result"
    }
   ],
   "source": [
    "reviews.loc[reviews.price_category==\"Luxus\"]"
   ]
  },
  {
   "cell_type": "markdown",
   "id": "b0c8044d",
   "metadata": {},
   "source": [
    "### Number of row from each price_category"
   ]
  },
  {
   "cell_type": "code",
   "execution_count": 43,
   "id": "7e4343d2",
   "metadata": {},
   "outputs": [
    {
     "data": {
      "text/plain": [
       "Normal    126605\n",
       "Luxus       3366\n",
       "Name: price_category, dtype: int64"
      ]
     },
     "execution_count": 43,
     "metadata": {},
     "output_type": "execute_result"
    }
   ],
   "source": [
    "reviews.price_category.value_counts()"
   ]
  },
  {
   "cell_type": "markdown",
   "id": "157cafae",
   "metadata": {},
   "source": [
    "### Change the values of the \"price_category\" column where the price is lower than 10 to \"Low\""
   ]
  },
  {
   "cell_type": "code",
   "execution_count": 44,
   "id": "e2122a6f",
   "metadata": {},
   "outputs": [],
   "source": [
    "import numpy as np\n",
    "reviews['price_category'] = np.where(reviews[\"price\"] <10, \"Low\", reviews['price_category'])"
   ]
  },
  {
   "cell_type": "markdown",
   "id": "bc9e4967",
   "metadata": {},
   "source": [
    "### Number of row from each price_category"
   ]
  },
  {
   "cell_type": "code",
   "execution_count": 45,
   "id": "835f4f54",
   "metadata": {},
   "outputs": [
    {
     "data": {
      "text/plain": [
       "Normal    123764\n",
       "Luxus       3366\n",
       "Low         2841\n",
       "Name: price_category, dtype: int64"
      ]
     },
     "execution_count": 45,
     "metadata": {},
     "output_type": "execute_result"
    }
   ],
   "source": [
    "reviews.price_category.value_counts()"
   ]
  },
  {
   "cell_type": "markdown",
   "id": "44128eaa",
   "metadata": {},
   "source": [
    "### Assigning values at once for multiple conditions"
   ]
  },
  {
   "cell_type": "code",
   "execution_count": 46,
   "id": "203545a4",
   "metadata": {},
   "outputs": [
    {
     "data": {
      "text/plain": [
       "Normal      81469\n",
       "Low         39401\n",
       "No Price     8996\n",
       "High           89\n",
       "Luxus          16\n",
       "Name: price_category, dtype: int64"
      ]
     },
     "execution_count": 46,
     "metadata": {},
     "output_type": "execute_result"
    }
   ],
   "source": [
    "reviews = pd.read_csv(\"winemag-data-130k-v2.csv\",index_col=0)\n",
    "conditions = [\n",
    "    (reviews['price'].isnull()),\n",
    "    (reviews['price'] < 20),\n",
    "    (reviews['price'] >= 20) & (reviews['price'] < 500),\n",
    "    (reviews['price'] >= 500) & (reviews['price'] < 1000),\n",
    "    (reviews['price'] >= 1000)\n",
    "]\n",
    "categories = ['No Price','Low', 'Normal', 'High', 'Luxus']\n",
    "reviews['price_category'] = np.select(conditions, categories)\n",
    "reviews.price_category.value_counts()"
   ]
  },
  {
   "cell_type": "code",
   "execution_count": null,
   "id": "df570803",
   "metadata": {},
   "outputs": [],
   "source": []
  }
 ],
 "metadata": {
  "kernelspec": {
   "display_name": "Python 3 (ipykernel)",
   "language": "python",
   "name": "python3"
  },
  "language_info": {
   "codemirror_mode": {
    "name": "ipython",
    "version": 3
   },
   "file_extension": ".py",
   "mimetype": "text/x-python",
   "name": "python",
   "nbconvert_exporter": "python",
   "pygments_lexer": "ipython3",
   "version": "3.8.13"
  }
 },
 "nbformat": 4,
 "nbformat_minor": 5
}
